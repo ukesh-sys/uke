{
 "cells": [
  {
   "cell_type": "code",
   "execution_count": 3,
   "metadata": {},
   "outputs": [
    {
     "name": "stdout",
     "output_type": "stream",
     "text": [
      "Using matplotlib backend: Qt5Agg\n"
     ]
    }
   ],
   "source": [
    "import random\n",
    "import numpy as np\n",
    "import matplotlib.pyplot as plt\n",
    "from IPython.display import clear_output\n",
    "%matplotlib"
   ]
  },
  {
   "cell_type": "code",
   "execution_count": 19,
   "metadata": {},
   "outputs": [],
   "source": [
    "def random_walk(no_of_steps,initial_position,step_size):\n",
    "    x=[i for i in range(0,no_of_steps+1)]\n",
    "    y=[initial_position]\n",
    "    plt.grid()\n",
    "    for i in range(0,no_of_steps):\n",
    "        clear_output()\n",
    "        z=random.randint(0,1)\n",
    "        if z==1:\n",
    "            y.append(y[i]+1)\n",
    "        else:\n",
    "            y.append(y[i]-1)\n",
    "        plt.xlim([0,no_of_steps])\n",
    "        plt.xlabel('Number Of Steps')\n",
    "        plt.ylabel('Position')\n",
    "        plt.plot(x[:i], y[:i], 'r-.')\n",
    "        plt.show()\n",
    "        plt.pause(0.2)\n",
    "        plt.title('Random Walk')"
   ]
  },
  {
   "cell_type": "code",
   "execution_count": 20,
   "metadata": {
    "scrolled": true
   },
   "outputs": [],
   "source": [
    "random_walk(100,-2,1)"
   ]
  },
  {
   "cell_type": "code",
   "execution_count": null,
   "metadata": {},
   "outputs": [],
   "source": []
  }
 ],
 "metadata": {
  "kernelspec": {
   "display_name": "Python 3",
   "language": "python",
   "name": "python3"
  },
  "language_info": {
   "codemirror_mode": {
    "name": "ipython",
    "version": 3
   },
   "file_extension": ".py",
   "mimetype": "text/x-python",
   "name": "python",
   "nbconvert_exporter": "python",
   "pygments_lexer": "ipython3",
   "version": "3.8.3"
  }
 },
 "nbformat": 4,
 "nbformat_minor": 4
}
